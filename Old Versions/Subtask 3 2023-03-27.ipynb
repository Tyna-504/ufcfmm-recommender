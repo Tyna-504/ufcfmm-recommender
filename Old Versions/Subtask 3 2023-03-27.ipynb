{
 "cells": [
  {
   "cell_type": "markdown",
   "metadata": {},
   "source": [
    "# Training the model\n",
    "\n",
    "To train the model, will we be selecting features such as products price and review score, and use the target variable of the product id as the prediction output.\n",
    "\n",
    "Firstly, we will create models using KNeighborsClassifer and RandomForestClassifier. "
   ]
  },
  {
   "cell_type": "code",
   "execution_count": 1,
   "metadata": {},
   "outputs": [],
   "source": [
    "import pandas as pd\n",
    "from sklearn.model_selection import train_test_split\n",
    "from sklearn.neighbors import KNeighborsClassifier\n",
    "from sklearn.ensemble import RandomForestClassifier\n",
    "from sklearn.metrics import precision_score, recall_score, f1_score, roc_auc_score\n",
    "\n",
    "# read in the data from the CSV files\n",
    "orders = pd.read_csv('data/olist_orders_dataset.csv')\n",
    "order_items = pd.read_csv('data/olist_order_items_dataset.csv')\n",
    "products = pd.read_csv('data/olist_products_dataset.csv')\n",
    "reviews = pd.read_csv('data/olist_order_reviews_dataset.csv', encoding='ISO-8859-1')\n",
    "\n",
    "# merge the datasets to create a single DataFrame\n",
    "data = pd.merge(orders, order_items, on='order_id')\n",
    "data = pd.merge(data, products, on='product_id')\n",
    "data = pd.merge(data, reviews, on='order_id')\n",
    "\n",
    "# select the features and target variable\n",
    "X = data[['price', 'review_score']]\n",
    "y = data['product_id']\n",
    "\n",
    "# split the data into training and testing sets\n",
    "X_train, X_test, y_train, y_test = train_test_split(X, y, test_size=0.2)"
   ]
  },
  {
   "cell_type": "markdown",
   "metadata": {},
   "source": [
    "Now that we have prepared the data and split into train and test data, we can train the two models."
   ]
  },
  {
   "cell_type": "code",
   "execution_count": 2,
   "metadata": {},
   "outputs": [
    {
     "data": {
      "text/plain": [
       "KNeighborsClassifier()"
      ]
     },
     "execution_count": 2,
     "metadata": {},
     "output_type": "execute_result"
    }
   ],
   "source": [
    "# create and train the model\n",
    "knn = KNeighborsClassifier(n_neighbors=5)\n",
    "knn.fit(X_train, y_train)"
   ]
  },
  {
   "cell_type": "code",
   "execution_count": 3,
   "metadata": {
    "scrolled": true
   },
   "outputs": [
    {
     "data": {
      "text/plain": [
       "RandomForestClassifier(max_depth=4, n_estimators=10, n_jobs=-1)"
      ]
     },
     "execution_count": 3,
     "metadata": {},
     "output_type": "execute_result"
    }
   ],
   "source": [
    "rfc = RandomForestClassifier(n_estimators=10, n_jobs=-1, max_depth=4, verbose=0)\n",
    "rfc.fit(X_train, y_train)"
   ]
  },
  {
   "cell_type": "markdown",
   "metadata": {},
   "source": [
    "# Testing the model performance for KNN and RFC"
   ]
  },
  {
   "cell_type": "code",
   "execution_count": 4,
   "metadata": {},
   "outputs": [
    {
     "name": "stderr",
     "output_type": "stream",
     "text": [
      "/usr/local/lib/python3.8/dist-packages/sklearn/metrics/_classification.py:1318: UndefinedMetricWarning: Precision is ill-defined and being set to 0.0 in labels with no predicted samples. Use `zero_division` parameter to control this behavior.\n",
      "  _warn_prf(average, modifier, msg_start, len(result))\n",
      "/usr/local/lib/python3.8/dist-packages/sklearn/metrics/_classification.py:1318: UndefinedMetricWarning: Recall is ill-defined and being set to 0.0 in labels with no true samples. Use `zero_division` parameter to control this behavior.\n",
      "  _warn_prf(average, modifier, msg_start, len(result))\n"
     ]
    },
    {
     "name": "stdout",
     "output_type": "stream",
     "text": [
      "Scores for the KNN model\n",
      "Precision: 0.10407158213777055\n",
      "Recall: 0.12750937568938892\n",
      "f1: 0.09999947565244156\n"
     ]
    }
   ],
   "source": [
    "# make predictions on the testing data using the KNN model\n",
    "y_pred = knn.predict(X_test)\n",
    "\n",
    "# calculate precision, recall, f1-score, and AUC\n",
    "precision = precision_score(y_test, y_pred, average=\"weighted\")\n",
    "recall = recall_score(y_test, y_pred, average=\"weighted\")\n",
    "f1 = f1_score(y_test, y_pred, average=\"weighted\")\n",
    "# auc = roc_auc_score(y_test, y_pred)\n",
    "\n",
    "print(\"Scores for the KNN model\")\n",
    "print(\"Precision:\", precision)\n",
    "print(\"Recall:\", recall)\n",
    "print(\"f1:\", f1)"
   ]
  },
  {
   "cell_type": "code",
   "execution_count": 5,
   "metadata": {},
   "outputs": [
    {
     "name": "stdout",
     "output_type": "stream",
     "text": [
      "Scores for the RFC model\n",
      "Precision: 0.0025471729837301385\n",
      "Recall: 0.12750937568938892\n",
      "f1: 0.09999947565244156\n"
     ]
    },
    {
     "name": "stderr",
     "output_type": "stream",
     "text": [
      "/usr/local/lib/python3.8/dist-packages/sklearn/metrics/_classification.py:1318: UndefinedMetricWarning: Precision is ill-defined and being set to 0.0 in labels with no predicted samples. Use `zero_division` parameter to control this behavior.\n",
      "  _warn_prf(average, modifier, msg_start, len(result))\n"
     ]
    }
   ],
   "source": [
    "# NOTE: JupyterHub kernel crashes due to the size of the data, therefore we have grabbed a small sample of test data.\n",
    "X_test_rfc = X_test.sample(frac=0.3, random_state=200)\n",
    "y_test_rfc = y_test.sample(frac=0.3, random_state=200)\n",
    "\n",
    "# make predictions on the testing data using the RFC model\n",
    "y_pred_rfc = rfc.predict(X_test_rfc)\n",
    "\n",
    "# calculate precision, recall, f1-score, and AUC\n",
    "precision = precision_score(y_test_rfc, y_pred_rfc, average=\"weighted\")\n",
    "# recall = recall_score(y_test, y_pred, average=\"weighted\")\n",
    "# f1 = f1_score(y_test, y_pred, average=\"weighted\")\n",
    "# auc = roc_auc_score(y_test, y_pred)\n",
    "\n",
    "print(\"Scores for the RFC model\")\n",
    "print(\"Precision:\", precision)\n",
    "print(\"Recall:\", recall)\n",
    "print(\"f1:\", f1)"
   ]
  },
  {
   "cell_type": "markdown",
   "metadata": {},
   "source": [
    "# Collaborative Filtering\n",
    "\n",
    "Collaborative filtering takes customers previous orders and identifies patterns and will recommend products to customers based on previous customers orders. If customer A orders products X and Y, then customer B who has ordered product X will then be recommended product Y."
   ]
  },
  {
   "cell_type": "code",
   "execution_count": 6,
   "metadata": {},
   "outputs": [
    {
     "data": {
      "text/plain": [
       "NearestNeighbors(algorithm='brute', metric='cosine')"
      ]
     },
     "execution_count": 6,
     "metadata": {},
     "output_type": "execute_result"
    }
   ],
   "source": [
    "import pandas as pd\n",
    "from scipy.sparse import csr_matrix\n",
    "from sklearn.neighbors import NearestNeighbors\n",
    "from sklearn.model_selection import train_test_split\n",
    "\n",
    "# read in the data from the CSV files\n",
    "orders = pd.read_csv('data/olist_orders_dataset.csv')\n",
    "order_items = pd.read_csv('data/olist_order_items_dataset.csv')\n",
    "products = pd.read_csv('data/olist_products_dataset.csv')\n",
    "reviews = pd.read_csv('data/olist_order_reviews_dataset.csv', encoding='ISO-8859-1')\n",
    "\n",
    "# merge the datasets to create a single DataFrame\n",
    "data = pd.merge(orders, order_items, on='order_id')\n",
    "data = pd.merge(data, products, on='product_id')\n",
    "data = pd.merge(data, reviews, on='order_id')\n",
    "\n",
    "\n",
    "# filter the data to include only the most active customers\n",
    "# NOTE: this is mainly done due to performance issues.\n",
    "customer_counts = data['customer_id'].value_counts()\n",
    "active_customers = customer_counts[customer_counts > 3].index\n",
    "data = data[data['customer_id'].isin(active_customers)]\n",
    "\n",
    "\n",
    "# split the data into training and testing sets\n",
    "train_data, test_data = train_test_split(data, test_size=0.2)\n",
    "\n",
    "# create a pivot table with customers as rows and products as columns using the training data\n",
    "pivot = train_data.pivot_table(index='customer_id', columns='product_id', values='review_score')\n",
    "\n",
    "# fill missing values with 0\n",
    "pivot = pivot.fillna(0)\n",
    "\n",
    "# convert the pivot table to a sparse matrix\n",
    "matrix = csr_matrix(pivot.values)\n",
    "\n",
    "# create and fit a NearestNeighbors model using the training data\n",
    "model = NearestNeighbors(metric='cosine', algorithm='brute')\n",
    "model.fit(matrix)"
   ]
  },
  {
   "cell_type": "code",
   "execution_count": 7,
   "metadata": {},
   "outputs": [],
   "source": [
    "# function to recommend products for a given customer\n",
    "def recommend_products(customer_id):\n",
    "    # find the index of the customer in the pivot table\n",
    "    customer_index = pivot.index.get_loc(customer_id)\n",
    "    \n",
    "    # find the k nearest neighbors of the customer\n",
    "    distances, indices = model.kneighbors(pivot.iloc[customer_index, :].values.reshape(1, -1), n_neighbors=6)\n",
    "    \n",
    "    # get the product ids of the products purchased by the nearest neighbors\n",
    "    product_ids = []\n",
    "    for i in range(0, len(distances.flatten())):\n",
    "        if i == 0:\n",
    "            continue\n",
    "        else:\n",
    "#             product_ids.extend(pivot.index[indices.flatten()[i]])\n",
    "            # append the recommended product ID to the array.\n",
    "            product_ids.append(pivot.columns[indices.flatten()[i]])\n",
    "    \n",
    "    # return the most common product ids\n",
    "    return pd.Series(product_ids).value_counts().head().index.tolist()"
   ]
  },
  {
   "cell_type": "code",
   "execution_count": 8,
   "metadata": {},
   "outputs": [
    {
     "name": "stdout",
     "output_type": "stream",
     "text": [
      "['4c751914ccc83ec17b8913cffdee3c3c', '4cce2fad3d2dec6f82510d2521aebdd3', '643a66b1dc5dad3de6cb5a41549e72f1', 'ad4b5def91ac7c575dbdf65b5be311f4', '8922a988522761e78f0444350218e73b']\n"
     ]
    }
   ],
   "source": [
    "# test the recommend_products function on a customer from the testing data.\n",
    "test_customer = test_data.iloc[0]['customer_id']\n",
    "recommended_products = recommend_products(test_customer)\n",
    "print(recommended_products)"
   ]
  },
  {
   "cell_type": "markdown",
   "metadata": {},
   "source": [
    "# Conclusion\n",
    "\n",
    "The KNN and RFM models appear to be low in performance quality. They only seem to be 10%-13% accurate and precise.\n",
    "\n",
    "The Collaborative Filtering seems to be more appropriate for this scenario."
   ]
  }
 ],
 "metadata": {
  "kernelspec": {
   "display_name": "DMenv",
   "language": "python",
   "name": "dmenv"
  },
  "language_info": {
   "codemirror_mode": {
    "name": "ipython",
    "version": 3
   },
   "file_extension": ".py",
   "mimetype": "text/x-python",
   "name": "python",
   "nbconvert_exporter": "python",
   "pygments_lexer": "ipython3",
   "version": "3.8.10"
  }
 },
 "nbformat": 4,
 "nbformat_minor": 4
}
