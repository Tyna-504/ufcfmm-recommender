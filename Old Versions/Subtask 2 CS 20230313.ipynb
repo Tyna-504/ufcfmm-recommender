{
 "cells": [
  {
   "cell_type": "markdown",
   "metadata": {},
   "source": [
    "# Customer Segmentation\n",
    "We must first segment the customers into similar groups in order to target the customers better with personalised product recommendations."
   ]
  },
  {
   "cell_type": "markdown",
   "metadata": {},
   "source": [
    "## RFM Segmentation:\n",
    "Order Items (order_id) must be joined to the Orders (order_id) to get the (customer_id). The (customer_id) of Orders must be joined to Customers.\n",
    "The sum of price on all the same order_id's (in Order Items CSV), and once joined to orders and customers, we then have the customer_unique_id.\n",
    "Fit the customers into clusters, then you will have segmented based on RFM values.\n"
   ]
  },
  {
   "cell_type": "code",
   "execution_count": 1,
   "metadata": {},
   "outputs": [],
   "source": [
    "# Import libraries\n",
    "import pandas as pd\n",
    "import numpy as np\n",
    "import matplotlib.pyplot as plt\n",
    "from sklearn.preprocessing import StandardScaler\n",
    "from sklearn.cluster import KMeans\n",
    "from sklearn.metrics import silhouette_score\n",
    "import seaborn as sns"
   ]
  },
  {
   "cell_type": "code",
   "execution_count": 2,
   "metadata": {},
   "outputs": [],
   "source": [
    "# Load and merge CSV files\n",
    "items = pd.read_csv(\"data/olist_order_items_dataset.csv\")\n",
    "orders = pd.read_csv(\"data/olist_orders_dataset.csv\")\n",
    "customers = pd.read_csv(\"data/olist_customers_dataset.csv\")\n",
    "geolocation = pd.read_csv(\"data/olist_geolocation_dataset.csv\")\n",
    "data = pd.merge(items, orders, on=\"order_id\")\n",
    "data = pd.merge(data, customers, on=\"customer_id\")"
   ]
  },
  {
   "cell_type": "markdown",
   "metadata": {},
   "source": [
    "## !!! NOTE: Preprocessing from Subtask 1 is required!"
   ]
  },
  {
   "cell_type": "code",
   "execution_count": 3,
   "metadata": {},
   "outputs": [],
   "source": [
    "# Preprocess data\n",
    "data.drop_duplicates(inplace=True)\n",
    "data.dropna(inplace=True)\n",
    "data = data[data[\"order_status\"] == \"delivered\"]"
   ]
  },
  {
   "cell_type": "markdown",
   "metadata": {},
   "source": [
    "## Select RFM features\n",
    "Recency (of the order), frequency (how many items in the order), monetary (value of the order)."
   ]
  },
  {
   "cell_type": "code",
   "execution_count": 4,
   "metadata": {
    "scrolled": false
   },
   "outputs": [],
   "source": [
    "# Select RFM features\n",
    "data[\"order_purchase_timestamp\"] = pd.to_datetime(data[\"order_purchase_timestamp\"])\n",
    "max_date = data[\"order_purchase_timestamp\"].max() # gets the latest purchase\n",
    "data[\"recency\"] = (max_date - data[\"order_purchase_timestamp\"]).dt.days # days since last purchase \n",
    "rfm = data.groupby(\"customer_unique_id\").agg({\"order_id\": \"nunique\", \"price\": \"sum\", \"recency\": \"min\"})\n",
    "rfm.columns = [\"frequency\", \"monetary\", \"recency\"]"
   ]
  },
  {
   "cell_type": "code",
   "execution_count": 5,
   "metadata": {},
   "outputs": [
    {
     "data": {
      "text/html": [
       "<div>\n",
       "<style scoped>\n",
       "    .dataframe tbody tr th:only-of-type {\n",
       "        vertical-align: middle;\n",
       "    }\n",
       "\n",
       "    .dataframe tbody tr th {\n",
       "        vertical-align: top;\n",
       "    }\n",
       "\n",
       "    .dataframe thead th {\n",
       "        text-align: right;\n",
       "    }\n",
       "</style>\n",
       "<table border=\"1\" class=\"dataframe\">\n",
       "  <thead>\n",
       "    <tr style=\"text-align: right;\">\n",
       "      <th></th>\n",
       "      <th>frequency</th>\n",
       "      <th>monetary</th>\n",
       "      <th>recency</th>\n",
       "    </tr>\n",
       "    <tr>\n",
       "      <th>customer_unique_id</th>\n",
       "      <th></th>\n",
       "      <th></th>\n",
       "      <th></th>\n",
       "    </tr>\n",
       "  </thead>\n",
       "  <tbody>\n",
       "    <tr>\n",
       "      <th>0000366f3b9a7992bf8c76cfdf3221e2</th>\n",
       "      <td>1</td>\n",
       "      <td>129.90</td>\n",
       "      <td>111</td>\n",
       "    </tr>\n",
       "    <tr>\n",
       "      <th>0000b849f77a49e4a4ce2b2a4ca5be3f</th>\n",
       "      <td>1</td>\n",
       "      <td>18.90</td>\n",
       "      <td>114</td>\n",
       "    </tr>\n",
       "    <tr>\n",
       "      <th>0000f46a3911fa3c0805444483337064</th>\n",
       "      <td>1</td>\n",
       "      <td>69.00</td>\n",
       "      <td>536</td>\n",
       "    </tr>\n",
       "    <tr>\n",
       "      <th>0000f6ccb0745a6a4b88665a16c9f078</th>\n",
       "      <td>1</td>\n",
       "      <td>25.99</td>\n",
       "      <td>320</td>\n",
       "    </tr>\n",
       "    <tr>\n",
       "      <th>0004aac84e0df4da2b147fca70cf8255</th>\n",
       "      <td>1</td>\n",
       "      <td>180.00</td>\n",
       "      <td>287</td>\n",
       "    </tr>\n",
       "  </tbody>\n",
       "</table>\n",
       "</div>"
      ],
      "text/plain": [
       "                                  frequency  monetary  recency\n",
       "customer_unique_id                                            \n",
       "0000366f3b9a7992bf8c76cfdf3221e2          1    129.90      111\n",
       "0000b849f77a49e4a4ce2b2a4ca5be3f          1     18.90      114\n",
       "0000f46a3911fa3c0805444483337064          1     69.00      536\n",
       "0000f6ccb0745a6a4b88665a16c9f078          1     25.99      320\n",
       "0004aac84e0df4da2b147fca70cf8255          1    180.00      287"
      ]
     },
     "execution_count": 5,
     "metadata": {},
     "output_type": "execute_result"
    }
   ],
   "source": [
    "# NOTE: Check that standardising is needed or not.\n",
    "# Standardise RFM features\n",
    "# scaler = StandardScaler()\n",
    "# rfm_scaled = scaler.fit_transform(rfm)\n",
    "rfm_scaled = rfm\n",
    "rfm_scaled.head()"
   ]
  },
  {
   "cell_type": "code",
   "execution_count": 6,
   "metadata": {},
   "outputs": [
    {
     "data": {
      "image/png": "[encoded data removed]",
      "text/plain": [
       "<Figure size 432x288 with 1 Axes>"
      ]
     },
     "metadata": {
      "needs_background": "light"
     },
     "output_type": "display_data"
    }
   ],
   "source": [
    "# Determine optimal number of clusters (using elbow method & silhouette score)\n",
    "sse = [] # sum of squared errors \n",
    "for k in range(2, 11):\n",
    "    kmeans = KMeans(n_clusters=k)\n",
    "    kmeans.fit(rfm_scaled)\n",
    "    sse.append(kmeans.inertia_)\n",
    "\n",
    "    # Calculate the silhouette score of the clustering.\n",
    "    # NOTE: The following lines are commented out due to computational time. The result is in the table below.\n",
    "#     cluster_labels = kmeans.labels_\n",
    "#     data_rfm_k = rfm_scaled.assign(Cluster = cluster_labels)\n",
    "#     print(f'Silhouette Score(k={k}): {silhouette_score(rfm_scaled, cluster_labels)}')\n",
    "\n",
    "plt.plot(range(2, 11), sse)\n",
    "plt.xlabel(\"Number of clusters\")\n",
    "plt.ylabel(\"SSE\")\n",
    "plt.show()"
   ]
  },
  {
   "cell_type": "markdown",
   "metadata": {},
   "source": [
    "## Silhouette Score\n",
    "The silhouette score measures the distance between clusters and can determine the effectiveness of the clustering.\n",
    "The score is between +1 and -1. A positive score indicates seperation between the clusters (good), and a negative score indicates overlapping clusters (bad).\n",
    "\n",
    "| Cluster (w/o standardising) | Silhouette Score |\n",
    "| --- | --- |\n",
    "| 2 | 0.7350307132554209 |\n",
    "| 3 | 0.4464181643710864 |\n",
    "| 4 | 0.4674003977327137 |\n",
    "| 5 | 0.3890712326513849 |\n",
    "| 6 | 0.4065179623645617 |\n",
    "| 7 | 0.4124540789458798 |\n",
    "| 8 | 0.4124748554259864 |\n",
    "| 9 | 0.4150074415670860 |\n",
    "| 10 | 0.3693316077587359 |\n",
    "\n",
    "Conclusion, cluster size of 4 seems to be the best number of clusters."
   ]
  },
  {
   "cell_type": "code",
   "execution_count": 7,
   "metadata": {},
   "outputs": [
    {
     "data": {
      "text/html": [
       "<div>\n",
       "<style scoped>\n",
       "    .dataframe tbody tr th:only-of-type {\n",
       "        vertical-align: middle;\n",
       "    }\n",
       "\n",
       "    .dataframe tbody tr th {\n",
       "        vertical-align: top;\n",
       "    }\n",
       "\n",
       "    .dataframe thead tr th {\n",
       "        text-align: left;\n",
       "    }\n",
       "\n",
       "    .dataframe thead tr:last-of-type th {\n",
       "        text-align: right;\n",
       "    }\n",
       "</style>\n",
       "<table border=\"1\" class=\"dataframe\">\n",
       "  <thead>\n",
       "    <tr>\n",
       "      <th></th>\n",
       "      <th colspan=\"8\" halign=\"left\">frequency</th>\n",
       "      <th colspan=\"5\" halign=\"left\">monetary</th>\n",
       "      <th colspan=\"8\" halign=\"left\">recency</th>\n",
       "    </tr>\n",
       "    <tr>\n",
       "      <th></th>\n",
       "      <th>count</th>\n",
       "      <th>mean</th>\n",
       "      <th>std</th>\n",
       "      <th>min</th>\n",
       "      <th>25%</th>\n",
       "      <th>50%</th>\n",
       "      <th>75%</th>\n",
       "      <th>max</th>\n",
       "      <th>count</th>\n",
       "      <th>mean</th>\n",
       "      <th>...</th>\n",
       "      <th>75%</th>\n",
       "      <th>max</th>\n",
       "      <th>count</th>\n",
       "      <th>mean</th>\n",
       "      <th>std</th>\n",
       "      <th>min</th>\n",
       "      <th>25%</th>\n",
       "      <th>50%</th>\n",
       "      <th>75%</th>\n",
       "      <th>max</th>\n",
       "    </tr>\n",
       "    <tr>\n",
       "      <th>cluster</th>\n",
       "      <th></th>\n",
       "      <th></th>\n",
       "      <th></th>\n",
       "      <th></th>\n",
       "      <th></th>\n",
       "      <th></th>\n",
       "      <th></th>\n",
       "      <th></th>\n",
       "      <th></th>\n",
       "      <th></th>\n",
       "      <th></th>\n",
       "      <th></th>\n",
       "      <th></th>\n",
       "      <th></th>\n",
       "      <th></th>\n",
       "      <th></th>\n",
       "      <th></th>\n",
       "      <th></th>\n",
       "      <th></th>\n",
       "      <th></th>\n",
       "      <th></th>\n",
       "    </tr>\n",
       "  </thead>\n",
       "  <tbody>\n",
       "    <tr>\n",
       "      <th>0</th>\n",
       "      <td>49996.0</td>\n",
       "      <td>1.029202</td>\n",
       "      <td>0.179529</td>\n",
       "      <td>1.0</td>\n",
       "      <td>1.0</td>\n",
       "      <td>1.0</td>\n",
       "      <td>1.0</td>\n",
       "      <td>5.0</td>\n",
       "      <td>49996.0</td>\n",
       "      <td>99.413674</td>\n",
       "      <td>...</td>\n",
       "      <td>139.0000</td>\n",
       "      <td>365.70</td>\n",
       "      <td>49996.0</td>\n",
       "      <td>127.090607</td>\n",
       "      <td>72.525771</td>\n",
       "      <td>0.0</td>\n",
       "      <td>64.0</td>\n",
       "      <td>128.0</td>\n",
       "      <td>189.0</td>\n",
       "      <td>257.0</td>\n",
       "    </tr>\n",
       "    <tr>\n",
       "      <th>1</th>\n",
       "      <td>744.0</td>\n",
       "      <td>1.088710</td>\n",
       "      <td>0.377969</td>\n",
       "      <td>1.0</td>\n",
       "      <td>1.0</td>\n",
       "      <td>1.0</td>\n",
       "      <td>1.0</td>\n",
       "      <td>5.0</td>\n",
       "      <td>744.0</td>\n",
       "      <td>1761.821210</td>\n",
       "      <td>...</td>\n",
       "      <td>1977.7500</td>\n",
       "      <td>13440.00</td>\n",
       "      <td>744.0</td>\n",
       "      <td>242.034946</td>\n",
       "      <td>160.511284</td>\n",
       "      <td>3.0</td>\n",
       "      <td>102.0</td>\n",
       "      <td>229.0</td>\n",
       "      <td>360.0</td>\n",
       "      <td>690.0</td>\n",
       "    </tr>\n",
       "    <tr>\n",
       "      <th>2</th>\n",
       "      <td>36710.0</td>\n",
       "      <td>1.024653</td>\n",
       "      <td>0.165765</td>\n",
       "      <td>1.0</td>\n",
       "      <td>1.0</td>\n",
       "      <td>1.0</td>\n",
       "      <td>1.0</td>\n",
       "      <td>6.0</td>\n",
       "      <td>36710.0</td>\n",
       "      <td>99.859098</td>\n",
       "      <td>...</td>\n",
       "      <td>134.9900</td>\n",
       "      <td>419.90</td>\n",
       "      <td>36710.0</td>\n",
       "      <td>387.493381</td>\n",
       "      <td>95.782747</td>\n",
       "      <td>257.0</td>\n",
       "      <td>300.0</td>\n",
       "      <td>375.0</td>\n",
       "      <td>461.0</td>\n",
       "      <td>713.0</td>\n",
       "    </tr>\n",
       "    <tr>\n",
       "      <th>3</th>\n",
       "      <td>5886.0</td>\n",
       "      <td>1.116888</td>\n",
       "      <td>0.471369</td>\n",
       "      <td>1.0</td>\n",
       "      <td>1.0</td>\n",
       "      <td>1.0</td>\n",
       "      <td>1.0</td>\n",
       "      <td>15.0</td>\n",
       "      <td>5886.0</td>\n",
       "      <td>555.808865</td>\n",
       "      <td>...</td>\n",
       "      <td>666.8675</td>\n",
       "      <td>1156.99</td>\n",
       "      <td>5886.0</td>\n",
       "      <td>229.813116</td>\n",
       "      <td>141.324515</td>\n",
       "      <td>0.0</td>\n",
       "      <td>118.0</td>\n",
       "      <td>214.0</td>\n",
       "      <td>317.0</td>\n",
       "      <td>693.0</td>\n",
       "    </tr>\n",
       "  </tbody>\n",
       "</table>\n",
       "<p>4 rows × 24 columns</p>\n",
       "</div>"
      ],
      "text/plain": [
       "        frequency                                               monetary  \\\n",
       "            count      mean       std  min  25%  50%  75%   max    count   \n",
       "cluster                                                                    \n",
       "0         49996.0  1.029202  0.179529  1.0  1.0  1.0  1.0   5.0  49996.0   \n",
       "1           744.0  1.088710  0.377969  1.0  1.0  1.0  1.0   5.0    744.0   \n",
       "2         36710.0  1.024653  0.165765  1.0  1.0  1.0  1.0   6.0  36710.0   \n",
       "3          5886.0  1.116888  0.471369  1.0  1.0  1.0  1.0  15.0   5886.0   \n",
       "\n",
       "                      ...                       recency              \\\n",
       "                mean  ...        75%       max    count        mean   \n",
       "cluster               ...                                             \n",
       "0          99.413674  ...   139.0000    365.70  49996.0  127.090607   \n",
       "1        1761.821210  ...  1977.7500  13440.00    744.0  242.034946   \n",
       "2          99.859098  ...   134.9900    419.90  36710.0  387.493381   \n",
       "3         555.808865  ...   666.8675   1156.99   5886.0  229.813116   \n",
       "\n",
       "                                                        \n",
       "                std    min    25%    50%    75%    max  \n",
       "cluster                                                 \n",
       "0         72.525771    0.0   64.0  128.0  189.0  257.0  \n",
       "1        160.511284    3.0  102.0  229.0  360.0  690.0  \n",
       "2         95.782747  257.0  300.0  375.0  461.0  713.0  \n",
       "3        141.324515    0.0  118.0  214.0  317.0  693.0  \n",
       "\n",
       "[4 rows x 24 columns]"
      ]
     },
     "execution_count": 7,
     "metadata": {},
     "output_type": "execute_result"
    }
   ],
   "source": [
    "# Apply K-means clustering using k=4 (based on the elbow method chart and silhouette score)\n",
    "kmeans = KMeans(n_clusters=4)\n",
    "kmeans.fit(rfm_scaled)\n",
    "rfm_scaled[\"cluster\"] = kmeans.labels_\n",
    "\n",
    "# Analyse cluster characteristics\n",
    "rfm_scaled.groupby(\"cluster\").describe()"
   ]
  },
  {
   "cell_type": "code",
   "execution_count": 8,
   "metadata": {},
   "outputs": [
    {
     "name": "stdout",
     "output_type": "stream",
     "text": [
      "customer_unique_id\n",
      "0000366f3b9a7992bf8c76cfdf3221e2    111\n",
      "0000b849f77a49e4a4ce2b2a4ca5be3f    114\n",
      "0000f46a3911fa3c0805444483337064    536\n",
      "0000f6ccb0745a6a4b88665a16c9f078    320\n",
      "0004aac84e0df4da2b147fca70cf8255    287\n",
      "                                   ... \n",
      "fffcf5a5ff07b0908bd4e2dbc735a684    446\n",
      "fffea47cd6d3cc0a88bd621562a9d061    261\n",
      "ffff371b4d645b6ecea244b27531430a    567\n",
      "ffff5962728ec6157033ef9805bacc48    118\n",
      "ffffd2657e2aad2907e67c3e9daecbeb    483\n",
      "Name: recency, Length: 93336, dtype: int64\n"
     ]
    },
    {
     "data": {
      "image/png": "[encoded data removed]",
      "text/plain": [
       "<Figure size 432x288 with 1 Axes>"
      ]
     },
     "metadata": {
      "needs_background": "light"
     },
     "output_type": "display_data"
    }
   ],
   "source": [
    "print(rfm_scaled[\"recency\"])\n",
    "\n",
    "plt.scatter(rfm_scaled[\"recency\"], rfm_scaled[\"monetary\"], c=rfm_scaled[\"cluster\"])\n",
    "plt.xlabel(\"Recency (days since)\")\n",
    "plt.ylabel(\"Monetary\")\n",
    "plt.title(\"Recency vs Monetary\")\n",
    "plt.show()"
   ]
  },
  {
   "cell_type": "code",
   "execution_count": 9,
   "metadata": {},
   "outputs": [
    {
     "data": {
      "image/png": "[encoded data removed]",
      "text/plain": [
       "<Figure size 432x288 with 1 Axes>"
      ]
     },
     "metadata": {
      "needs_background": "light"
     },
     "output_type": "display_data"
    }
   ],
   "source": [
    "plt.scatter(rfm_scaled[\"recency\"], rfm_scaled[\"frequency\"], c=rfm_scaled[\"cluster\"])\n",
    "plt.xlabel(\"Recency (days since)\")\n",
    "plt.ylabel(\"Frequency\")\n",
    "plt.title(\"Recency vs Frequency\")\n",
    "plt.show()"
   ]
  },
  {
   "cell_type": "code",
   "execution_count": 10,
   "metadata": {},
   "outputs": [
    {
     "data": {
      "image/png": "[encoded data removed]",
      "text/plain": [
       "<Figure size 432x288 with 1 Axes>"
      ]
     },
     "metadata": {
      "needs_background": "light"
     },
     "output_type": "display_data"
    }
   ],
   "source": [
    "plt.scatter(rfm_scaled[\"frequency\"], rfm_scaled[\"monetary\"], c=rfm_scaled[\"cluster\"])\n",
    "plt.xlabel(\"Frequency\")\n",
    "plt.ylabel(\"Monetary\")\n",
    "plt.title(\"Frequency vs Monetary\")\n",
    "plt.show()"
   ]
  },
  {
   "cell_type": "code",
   "execution_count": 11,
   "metadata": {},
   "outputs": [
    {
     "name": "stdout",
     "output_type": "stream",
     "text": [
      "cluster             0            1           2           3\n",
      "frequency    1.029202     1.088710    1.024653    1.116888\n",
      "monetary    99.413674  1761.821210   99.859098  555.808865\n",
      "recency    127.090607   242.034946  387.493381  229.813116\n"
     ]
    }
   ],
   "source": [
    "# This will display the mean of the clusters.\n",
    "print(rfm_scaled.pivot_table(columns=['cluster']))"
   ]
  },
  {
   "cell_type": "markdown",
   "metadata": {},
   "source": [
    "## Summary of RFM segmentation\n",
    "* A cluster size of 4 seems most suitable.\n",
    "* Clusters are ranked from 'worse customer (orders little and not often)' and the 'best customer (high spender, orders frequently)'."
   ]
  },
  {
   "cell_type": "markdown",
   "metadata": {},
   "source": [
    "# Feature Engineering segmentation\n",
    "# CHECK: This might not be needed.\n",
    "Feature engineering is creating a new variable for segmentation based on existing parameters/variables"
   ]
  },
  {
   "cell_type": "code",
   "execution_count": 12,
   "metadata": {},
   "outputs": [],
   "source": [
    "# Get the coordinates of each zip code prefix.\n",
    "geolocation_unique = geolocation.drop_duplicates(subset=['geolocation_zip_code_prefix'], keep='first')\n",
    "\n",
    "# Merge the zip code coordinates \n",
    "customer_coords = pd.merge(customers, geolocation_unique, left_on=\"customer_zip_code_prefix\", right_on=\"geolocation_zip_code_prefix\")"
   ]
  },
  {
   "cell_type": "markdown",
   "metadata": {},
   "source": [
    "We will now create a new variable called \"total_cost\" which combines "
   ]
  },
  {
   "cell_type": "code",
   "execution_count": null,
   "metadata": {},
   "outputs": [],
   "source": []
  }
 ],
 "metadata": {
  "kernelspec": {
   "display_name": "DMenv",
   "language": "python",
   "name": "dmenv"
  },
  "language_info": {
   "codemirror_mode": {
    "name": "ipython",
    "version": 3
   },
   "file_extension": ".py",
   "mimetype": "text/x-python",
   "name": "python",
   "nbconvert_exporter": "python",
   "pygments_lexer": "ipython3",
   "version": "3.8.10"
  }
 },
 "nbformat": 4,
 "nbformat_minor": 4
}
